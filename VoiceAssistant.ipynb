{
 "cells": [
  {
   "cell_type": "code",
   "execution_count": 1,
   "metadata": {},
   "outputs": [],
   "source": [
    "from __future__ import print_function\n",
    "import datetime\n",
    "import pickle\n",
    "import os.path\n",
    "from googleapiclient.discovery import build\n",
    "from google_auth_oauthlib.flow import InstalledAppFlow\n",
    "from google.auth.transport.requests import Request"
   ]
  },
  {
   "cell_type": "code",
   "execution_count": 2,
   "metadata": {},
   "outputs": [],
   "source": [
    "# If modifying these scopes, delete the file token.pickle.\n",
    "SCOPES = ['https://www.googleapis.com/auth/calendar.readonly']"
   ]
  },
  {
   "cell_type": "code",
   "execution_count": 74,
   "metadata": {},
   "outputs": [],
   "source": [
    "import os \n",
    "import playsound\n",
    "import time\n",
    "import speech_recognition as sr\n",
    "from gtts import gTTS\n",
    "import pyttsx3\n",
    "import pytz\n",
    "import subprocess\n",
    "import webbrowser"
   ]
  },
  {
   "cell_type": "code",
   "execution_count": 4,
   "metadata": {},
   "outputs": [],
   "source": [
    "MONTHS=[\"january\",\"february\",\"march\",\"april\",\"may\",\"june\",\"july\",\"august\",\"september\",\"october\",\"november\",\"december\"]\n",
    "DAYS=[\"monday\",\"tuesday\",\"wednesday\",\"thursday\",\"friday\",\"saturday\",\"sunday\"]\n",
    "DAYS_EXTENSIONS=[\"rd\",\"th\",\"st\",\"nd\"]\n",
    "\n",
    "\n",
    "\n",
    "counter=3\n",
    "name=\"\"\n",
    "#maintain this counter bcoz of this \n",
    "#PermissionError: [Errno 13] Permission denied: 'voice2.mp3' so every time this function calls we create new file"
   ]
  },
  {
   "cell_type": "code",
   "execution_count": 5,
   "metadata": {},
   "outputs": [],
   "source": [
    "def speak(text):\n",
    "    engine=pyttsx3.init()\n",
    "    engine.say(text)\n",
    "    engine.runAndWait()"
   ]
  },
  {
   "cell_type": "code",
   "execution_count": 6,
   "metadata": {},
   "outputs": [],
   "source": [
    "speak(\"hello nitin sharma\")"
   ]
  },
  {
   "cell_type": "code",
   "execution_count": 66,
   "metadata": {},
   "outputs": [],
   "source": [
    "#getting input from the user\n",
    "def get_audio():\n",
    "    r=sr.Recognizer()\n",
    "    with sr.Microphone() as source:\n",
    "        audio=r.listen(source)\n",
    "        said=\"\"\n",
    "        try:\n",
    "            said=r.recognize_google(audio)\n",
    "            print(said)\n",
    "        except Exception as e:\n",
    "            print(str(e))\n",
    "    return said.lower()"
   ]
  },
  {
   "cell_type": "code",
   "execution_count": 46,
   "metadata": {},
   "outputs": [
    {
     "name": "stdout",
     "output_type": "stream",
     "text": [
      "good morning\n"
     ]
    }
   ],
   "source": [
    "text=get_audio()\n",
    "if \"hello\" in text:\n",
    "    speak(\"hello how are you\")\n",
    "    \n",
    "elif \"good morning\" in text:\n",
    "    speak(\"good morning have a good day\")"
   ]
  },
  {
   "cell_type": "code",
   "execution_count": 67,
   "metadata": {},
   "outputs": [],
   "source": [
    "def authenticate_google():\n",
    "    \"\"\"Shows basic usage of the Google Calendar API.\n",
    "    Prints the start and name of the next 10 events on the user's calendar.\n",
    "    \"\"\"\n",
    "    creds = None\n",
    "    # The file token.pickle stores the user's access and refresh tokens, and is\n",
    "    # created automatically when the authorization flow completes for the first\n",
    "    # time.\n",
    "    if os.path.exists('token.pickle'):\n",
    "        with open('token.pickle', 'rb') as token:\n",
    "            creds = pickle.load(token)\n",
    "    # If there are no (valid) credentials available, let the user log in.\n",
    "    if not creds or not creds.valid:\n",
    "        if creds and creds.expired and creds.refresh_token:\n",
    "            creds.refresh(Request())\n",
    "        else:\n",
    "            flow = InstalledAppFlow.from_client_secrets_file(\n",
    "                'credentials.json', SCOPES)\n",
    "            creds = flow.run_local_server(port=0)\n",
    "        # Save the credentials for the next run\n",
    "        with open('token.pickle', 'wb') as token:\n",
    "            pickle.dump(creds, token)\n",
    "\n",
    "    service = build('calendar', 'v3', credentials=creds)\n",
    "    \n",
    "    return service"
   ]
  },
  {
   "cell_type": "code",
   "execution_count": 68,
   "metadata": {},
   "outputs": [],
   "source": [
    "def get_events(day,serivce):\n",
    "    # Call the Calendar API\n",
    "    date =datetime.datetime.combine(day,datetime.datetime.min.time())#give the minimum time for the particular day\n",
    "    end_date_time =datetime.datetime.combine(day,datetime.datetime.max.time())\n",
    "    \n",
    "    utc=pytz.UTC\n",
    "    date=date.astimezone(utc)\n",
    "    end_date_time=end_date_time.astimezone(utc)\n",
    "    \n",
    "    \n",
    "    \n",
    "    events_result = service.events().list(calendarId='primary', timeMin=date.isoformat(),timeMax=end_date_time.isoformat(),\n",
    "                                        singleEvents=True,orderBy='startTime').execute()\n",
    "    events = events_result.get('items', [])\n",
    "\n",
    "    if not events:\n",
    "        speak('No upcoming events found.')\n",
    "    else:\n",
    "        speak(\"you have {} event on this day\".format(len(events)))\n",
    "        for event in events:\n",
    "            start = event['start'].get('dateTime', event['start'].get('date'))\n",
    "            print(start, event['summary'])\n",
    "            \n",
    "            start_time=str(start.split(\"T\")[1].split(\"-\")[0]).split(\":\")[0]\n",
    "            print(start_time)\n",
    "            \n",
    "            if int(start_time.split(\":\")[0])>12:\n",
    "                start_time=start_time+\"am\"\n",
    "            else:\n",
    "               \n",
    "                start_time=start_time+\"pm\"\n",
    "            speak(event[\"summary\"]+\"at\"+start_time)"
   ]
  },
  {
   "cell_type": "code",
   "execution_count": 69,
   "metadata": {},
   "outputs": [],
   "source": [
    "#creating our own function to find out the future event we have by asking the assisstant\n",
    "def get_date(text):\n",
    "    text=text.lower() #converting the text into lower form for the ease\n",
    "    today=datetime.date.today() #find out the today's date\n",
    "    \n",
    "    \n",
    "    if text.count(\"today\") > 0: #if the user is talking about current day event so we return the current date\n",
    "        return today\n",
    "    \n",
    "    \n",
    "    day=-1\n",
    "    day_of_week=-1\n",
    "    month=-1\n",
    "    year=today.year\n",
    "    \n",
    "    for word in text.split():\n",
    "       \n",
    "        if word in MONTHS: #checking for the month\n",
    "            month=MONTHS.index(word)+1 \n",
    "            \n",
    "        elif word in DAYS:#checking for the day\n",
    "            day_of_week=DAYS.index(word)\n",
    "        elif word.isdigit():#checking is the word is number or not\n",
    "            day=int(word)\n",
    "        else: #checking of extensions like 6th feb like this\n",
    "            for ext in DAYS_EXTENSIONS:\n",
    "                \n",
    "                found=word.find(ext) #this will give the starting index like 6th so extension starts from (0=6,1=t,2=h index of\n",
    "                # of the word so it will return 1)\n",
    "                if found>0:\n",
    "                    try:\n",
    "                        day=int(word[:found])\n",
    "                        print(\"the day\"+day)#so we slice the word till the extension appear for example 6th so we slice to get 6\n",
    "                    except:\n",
    "                        pass\n",
    "    if month < today.month and month!=-1: #if the month is less than today month means we ask about the month of next year\n",
    "        #ex if today's month is august and we ask about feb to it means feb of next year \n",
    "        year=year+1\n",
    "    if day < today.day and month==-1 and day!=-1: #what we did above same thing we are doing here\n",
    "        month=month+1\n",
    "\n",
    "    if month==-1 and day==-1 and day_of_week!=-1:\n",
    "        current_day_of_week=today.weekday() #this function will give us the value of the current day ex for mon=0 and tue=1\n",
    "        #and for sun=6 (mon,------,sun)=(0,-----,6)\n",
    "        dif=day_of_week-current_day_of_week\n",
    "\n",
    "        if dif < 0:#if the difference is negative that means we are talking about next week for ex today is sunday\n",
    "            #so cur_day=6 and if we say what is the plan we have on tuesday so day_of_week=1 the diff is 1-6 ie -5 which\n",
    "            #is negative and it is obvious if today is sunday and we are talking about tuesday it must be of next week\n",
    "            #so we add +7 to dif ie -5+7=2\n",
    "            dif+=7\n",
    "            if text.count(\"next\")>=1: #here we check how many time next occur if the sentence is something like next to next \n",
    "                #this means we are talking about next to next week\n",
    "                dif+=7\n",
    "\n",
    "        return today + datetime.timedelta(dif)#timedelta function add dif with current day\n",
    "    if month==-1 or day ==-1:\n",
    "        return None\n",
    "\n",
    "    return datetime.date(month=month,day=day,year=year)    "
   ]
  },
  {
   "cell_type": "code",
   "execution_count": 70,
   "metadata": {},
   "outputs": [],
   "source": [
    "#function for creating notes\n",
    "def notes(text):\n",
    "    date=datetime.datetime.now() #date and time for the current day\n",
    "    file_name=str(date).replace(\":\",\"-\")+\"-note.txt\"\n",
    "    with open(file_name,\"w\") as f:\n",
    "        f.write(text)\n",
    "        \n",
    "    subprocess.Popen([\"notepad.exe\",file_name])"
   ]
  },
  {
   "cell_type": "code",
   "execution_count": 87,
   "metadata": {},
   "outputs": [
    {
     "name": "stdout",
     "output_type": "stream",
     "text": [
      "start\n",
      "Listening\n",
      "hi Nitesh\n",
      "Listening\n",
      "hi Nitin\n",
      "open Google\n",
      "Listening\n",
      "\n",
      "Listening\n",
      "bye\n"
     ]
    }
   ],
   "source": [
    "Wake=\"hi nitin\" #this is use for starting our bot\n",
    "stop=\"bye\"\n",
    "google_path=\"C:/Users/NITIN/AppData/Local/Google/Chrome/Application/chrome.exe %s\"\n",
    "service=authenticate_google()\n",
    "print(\"start\")\n",
    "\n",
    "while True:\n",
    "    print(\"Listening\")\n",
    "    text=get_audio() #here we take audio for activating the bot\n",
    "    \n",
    "    if text.count(Wake) > 0:\n",
    "        speak(\"i am ready\")\n",
    "        \n",
    "        text=get_audio() #here we take audio for working purpose\n",
    "        CALENDAR_STRS=[\"what do i have\",\"do i have plans\",\"am i busy\"] #these are string that is use whenever we have to ask for some events\n",
    "        #we make these strings for the optimization purpose we dont want that out bot starts giving us responses with the sentences which \n",
    "        #dont have any meaning\n",
    "        for phrase in CALENDAR_STRS:\n",
    "            if phrase in text:\n",
    "                date=get_date(text)\n",
    "                if date:\n",
    "                    get_events(date,service)\n",
    "                else:\n",
    "                    speak(\"i dont understand\")\n",
    "        NOTES_STRS=[\"make a note\",\"write this down\",\"remember this\"]\n",
    "        for phrase in NOTES_STRS:\n",
    "            if phrase in text:\n",
    "                speak(\"what would you like me to write down\")\n",
    "                note_text=get_audio()\n",
    "                notes(note_text) #calling note function\n",
    "                speak(\"i have made a note\")\n",
    "                \n",
    "        if \"open google\" in text:\n",
    "            speak(\"ok wait i am opening for you\")\n",
    "            webbrowser.get(google_path).open_new(\"https://www.google.com\")\n",
    "            \n",
    "        if \"open stackoverflow\" in text:\n",
    "            speak(\"ok wait i am opening for you\")\n",
    "            webbrowser.get(google_path).open_new(\"stackoverflow.com\")\n",
    "\n",
    "    if text.count(stop) > 0:\n",
    "        speak(\"thank you have a nice day\")\n",
    "        break"
   ]
  }
 ],
 "metadata": {
  "kernelspec": {
   "display_name": "Python 3",
   "language": "python",
   "name": "python3"
  },
  "language_info": {
   "codemirror_mode": {
    "name": "ipython",
    "version": 3
   },
   "file_extension": ".py",
   "mimetype": "text/x-python",
   "name": "python",
   "nbconvert_exporter": "python",
   "pygments_lexer": "ipython3",
   "version": "3.6.5"
  }
 },
 "nbformat": 4,
 "nbformat_minor": 2
}
